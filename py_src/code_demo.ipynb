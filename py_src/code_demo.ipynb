{
 "cells": [
  {
   "cell_type": "code",
   "execution_count": 1,
   "id": "8be2800c",
   "metadata": {},
   "outputs": [],
   "source": [
    "from linear_quivers import *\n",
    "from relations import *"
   ]
  },
  {
   "cell_type": "code",
   "execution_count": 2,
   "id": "6efe52a2",
   "metadata": {},
   "outputs": [],
   "source": [
    "vertices = 5\n",
    "relations = []"
   ]
  },
  {
   "cell_type": "code",
   "execution_count": 3,
   "id": "fa65cc1b",
   "metadata": {},
   "outputs": [],
   "source": [
    "lq = linear_quiver(vertices, relations) # Creating the quiver"
   ]
  },
  {
   "cell_type": "code",
   "execution_count": 4,
   "id": "3e5a0d9e",
   "metadata": {},
   "outputs": [
    {
     "data": {
      "text/plain": [
       "[[[1, 1], [1, 5]],\n",
       " [[2, 1], [2, 5]],\n",
       " [[3, 1], [3, 5]],\n",
       " [[4, 1], [4, 5]],\n",
       " [[5, 1], [5, 5]]]"
      ]
     },
     "execution_count": 4,
     "metadata": {},
     "output_type": "execute_result"
    }
   ],
   "source": [
    "lq.get_jectives() # Projective and injective modules"
   ]
  },
  {
   "cell_type": "code",
   "execution_count": 5,
   "id": "35e19e54",
   "metadata": {},
   "outputs": [
    {
     "data": {
      "text/plain": [
       "[[5], [5, 1], [5, 2], [5, 3], [5, 4]]"
      ]
     },
     "execution_count": 5,
     "metadata": {},
     "output_type": "execute_result"
    }
   ],
   "source": [
    "proj_res = lq.projective_resolution() # Obtaining the projective resolution\n",
    "proj_res"
   ]
  },
  {
   "cell_type": "code",
   "execution_count": 6,
   "id": "ecc0fd0e",
   "metadata": {},
   "outputs": [
    {
     "data": {
      "text/plain": [
       "array([[ 0, -1,  0,  0,  0],\n",
       "       [ 0,  0, -1,  0,  0],\n",
       "       [ 0,  0,  0, -1,  0],\n",
       "       [ 0,  0,  0,  0, -1],\n",
       "       [ 1,  1,  1,  1,  1]])"
      ]
     },
     "execution_count": 6,
     "metadata": {},
     "output_type": "execute_result"
    }
   ],
   "source": [
    "mat_pr = lq.matrix_of_proj_res(proj_res) # Obtaining the matrix of the projective resolution\n",
    "mat_pr"
   ]
  },
  {
   "cell_type": "code",
   "execution_count": 7,
   "id": "ee6ff1a0",
   "metadata": {},
   "outputs": [
    {
     "data": {
      "text/plain": [
       "(True, 6, '+')"
      ]
     },
     "execution_count": 7,
     "metadata": {},
     "output_type": "execute_result"
    }
   ],
   "source": [
    "max_power = 50 # Maximum power to raise mat_pr to\n",
    "linear_quiver.is_fcy(mat_pr, max_power)"
   ]
  },
  {
   "cell_type": "code",
   "execution_count": 9,
   "id": "5fc63c79",
   "metadata": {},
   "outputs": [
    {
     "name": "stdout",
     "output_type": "stream",
     "text": [
      "Power:  2\n",
      "[[ 0  0  1  0  0]\n",
      " [ 0  0  0  1  0]\n",
      " [ 0  0  0  0  1]\n",
      " [-1 -1 -1 -1 -1]\n",
      " [ 1  0  0  0  0]]\n",
      "\n",
      "Power:  3\n",
      "[[ 0  0  0 -1  0]\n",
      " [ 0  0  0  0 -1]\n",
      " [ 1  1  1  1  1]\n",
      " [-1  0  0  0  0]\n",
      " [ 0 -1  0  0  0]]\n",
      "\n",
      "Power:  4\n",
      "[[ 0  0  0  0  1]\n",
      " [-1 -1 -1 -1 -1]\n",
      " [ 1  0  0  0  0]\n",
      " [ 0  1  0  0  0]\n",
      " [ 0  0  1  0  0]]\n",
      "\n",
      "Power:  5\n",
      "[[ 1  1  1  1  1]\n",
      " [-1  0  0  0  0]\n",
      " [ 0 -1  0  0  0]\n",
      " [ 0  0 -1  0  0]\n",
      " [ 0  0  0 -1  0]]\n",
      "\n",
      "Power:  6\n",
      "[[1 0 0 0 0]\n",
      " [0 1 0 0 0]\n",
      " [0 0 1 0 0]\n",
      " [0 0 0 1 0]\n",
      " [0 0 0 0 1]]\n",
      "\n"
     ]
    },
    {
     "data": {
      "text/plain": [
       "(True, 6, '+')"
      ]
     },
     "execution_count": 9,
     "metadata": {},
     "output_type": "execute_result"
    }
   ],
   "source": [
    "linear_quiver.is_fcy(mat_pr, max_power, verbose = True)"
   ]
  },
  {
   "cell_type": "code",
   "execution_count": 10,
   "id": "7150a668",
   "metadata": {},
   "outputs": [
    {
     "data": {
      "text/plain": [
       "(4, 6)"
      ]
     },
     "execution_count": 10,
     "metadata": {},
     "output_type": "execute_result"
    }
   ],
   "source": [
    "max_serre_applications = 50 \n",
    "lq.serre_resolution(50)"
   ]
  },
  {
   "cell_type": "code",
   "execution_count": 11,
   "id": "05aba988",
   "metadata": {},
   "outputs": [
    {
     "name": "stdout",
     "output_type": "stream",
     "text": [
      "0 --> [[[1]], [[2]], [[3]], [[4]], [[5]]]\n",
      "1 --> [[[5]], [[5], [1]], [[5], [2]], [[5], [3]], [[5], [4]]]\n",
      "2 --> [[[5], [4]], [[], [4]], [[], [4], [1]], [[], [4], [2]], [[], [4], [3]]]\n",
      "3 --> [[[], [4], [3]], [[], [5], [3]], [[], [], [3]], [[], [], [3], [1]], [[], [], [3], [2]]]\n",
      "4 --> [[[], [], [3], [2]], [[], [], [4], [2]], [[], [], [5], [2]], [[], [], [], [2]], [[], [], [], [2], [1]]]\n",
      "5 --> [[[], [], [], [2], [1]], [[], [], [], [3], [1]], [[], [], [], [4], [1]], [[], [], [], [5], [1]], [[], [], [], [], [1]]]\n",
      "FINAL --> [[[], [], [], [], [1]], [[], [], [], [], [2]], [[], [], [], [], [3]], [[], [], [], [], [4]], [[], [], [], [], [5]]]\n"
     ]
    },
    {
     "data": {
      "text/plain": [
       "(4, 6)"
      ]
     },
     "execution_count": 11,
     "metadata": {},
     "output_type": "execute_result"
    }
   ],
   "source": [
    "lq.serre_resolution(50, verbose = True)"
   ]
  },
  {
   "cell_type": "code",
   "execution_count": 12,
   "id": "403f3070",
   "metadata": {},
   "outputs": [
    {
     "data": {
      "text/plain": [
       "[((1, 4),),\n",
       " ((2, 5),),\n",
       " ((3, 6),),\n",
       " ((4, 7),),\n",
       " ((1, 4), (2, 5)),\n",
       " ((1, 4), (3, 6)),\n",
       " ((1, 4), (4, 7)),\n",
       " ((2, 5), (3, 6)),\n",
       " ((2, 5), (4, 7)),\n",
       " ((3, 6), (4, 7)),\n",
       " ((1, 4), (2, 5), (3, 6)),\n",
       " ((1, 4), (2, 5), (4, 7)),\n",
       " ((1, 4), (3, 6), (4, 7)),\n",
       " ((2, 5), (3, 6), (4, 7)),\n",
       " ((1, 4), (2, 5), (3, 6), (4, 7))]"
      ]
     },
     "execution_count": 12,
     "metadata": {},
     "output_type": "execute_result"
    }
   ],
   "source": [
    "n = 7 # Number of vertices\n",
    "k = 3 # Length of relations\n",
    "relations = length_k_relations(7,3)\n",
    "relations"
   ]
  },
  {
   "cell_type": "code",
   "execution_count": 13,
   "id": "dd518761",
   "metadata": {},
   "outputs": [
    {
     "name": "stdout",
     "output_type": "stream",
     "text": [
      "Relation: ((1, 4),)\n",
      "Result: (True, 12, '+')\n",
      "--------------------------------------------------\n",
      "Relation: ((2, 5),)\n",
      "Result: (True, 9, '+')\n",
      "--------------------------------------------------\n",
      "Relation: ((3, 6),)\n",
      "Result: (True, 9, '+')\n",
      "--------------------------------------------------\n",
      "Relation: ((4, 7),)\n",
      "Result: (True, 12, '+')\n",
      "--------------------------------------------------\n",
      "Relation: ((1, 4), (2, 5))\n",
      "Result: (True, 12, '+')\n",
      "--------------------------------------------------\n",
      "Relation: ((1, 4), (3, 6))\n",
      "Result: (False, 10000, 'N/A')\n",
      "--------------------------------------------------\n",
      "Relation: ((1, 4), (4, 7))\n",
      "Result: (False, 10000, 'N/A')\n",
      "--------------------------------------------------\n",
      "Relation: ((2, 5), (3, 6))\n",
      "Result: (True, 12, '+')\n",
      "--------------------------------------------------\n",
      "Relation: ((2, 5), (4, 7))\n",
      "Result: (False, 10000, 'N/A')\n",
      "--------------------------------------------------\n",
      "Relation: ((3, 6), (4, 7))\n",
      "Result: (True, 12, '+')\n",
      "--------------------------------------------------\n",
      "Relation: ((1, 4), (2, 5), (3, 6))\n",
      "Result: (True, 9, '+')\n",
      "--------------------------------------------------\n",
      "Relation: ((1, 4), (2, 5), (4, 7))\n",
      "Result: (False, 10000, 'N/A')\n",
      "--------------------------------------------------\n",
      "Relation: ((1, 4), (3, 6), (4, 7))\n",
      "Result: (False, 10000, 'N/A')\n",
      "--------------------------------------------------\n",
      "Relation: ((2, 5), (3, 6), (4, 7))\n",
      "Result: (True, 9, '+')\n",
      "--------------------------------------------------\n",
      "Relation: ((1, 4), (2, 5), (3, 6), (4, 7))\n",
      "Result: (True, 9, '+')\n",
      "--------------------------------------------------\n"
     ]
    }
   ],
   "source": [
    "for rel in relations:\n",
    "    quiver = linear_quiver(n, rel)\n",
    "    pr = quiver.projective_resolution()\n",
    "    pr_mat = quiver.matrix_of_proj_res(pr)\n",
    "    \n",
    "    print(\"Relation:\", rel)\n",
    "    print(\"Result:\", lq.is_fcy(pr_mat, 10**4))\n",
    "    print(\"-\" * 50)"
   ]
  },
  {
   "cell_type": "code",
   "execution_count": 14,
   "id": "e0341241",
   "metadata": {},
   "outputs": [
    {
     "name": "stdout",
     "output_type": "stream",
     "text": [
      "Relation: ((1, 4),)\n",
      "CY Dimension: (4, 6)\n",
      "--------------------------------------------------\n",
      "Relation: ((2, 5),)\n",
      "CY Dimension: (4, 6)\n",
      "--------------------------------------------------\n",
      "Relation: ((3, 6),)\n",
      "CY Dimension: (4, 6)\n",
      "--------------------------------------------------\n",
      "Relation: ((4, 7),)\n",
      "CY Dimension: (4, 6)\n",
      "--------------------------------------------------\n",
      "Relation: ((1, 4), (2, 5))\n",
      "CY Dimension: (4, 6)\n",
      "--------------------------------------------------\n",
      "Relation: ((1, 4), (3, 6))\n",
      "CY Dimension: (4, 6)\n",
      "--------------------------------------------------\n",
      "Relation: ((1, 4), (4, 7))\n",
      "CY Dimension: (4, 6)\n",
      "--------------------------------------------------\n",
      "Relation: ((2, 5), (3, 6))\n",
      "CY Dimension: (4, 6)\n",
      "--------------------------------------------------\n",
      "Relation: ((2, 5), (4, 7))\n",
      "CY Dimension: (4, 6)\n",
      "--------------------------------------------------\n",
      "Relation: ((3, 6), (4, 7))\n",
      "CY Dimension: (4, 6)\n",
      "--------------------------------------------------\n",
      "Relation: ((1, 4), (2, 5), (3, 6))\n",
      "CY Dimension: (4, 6)\n",
      "--------------------------------------------------\n",
      "Relation: ((1, 4), (2, 5), (4, 7))\n",
      "CY Dimension: (4, 6)\n",
      "--------------------------------------------------\n",
      "Relation: ((1, 4), (3, 6), (4, 7))\n",
      "CY Dimension: (4, 6)\n",
      "--------------------------------------------------\n",
      "Relation: ((2, 5), (3, 6), (4, 7))\n",
      "CY Dimension: (4, 6)\n",
      "--------------------------------------------------\n",
      "Relation: ((1, 4), (2, 5), (3, 6), (4, 7))\n",
      "CY Dimension: (4, 6)\n",
      "--------------------------------------------------\n"
     ]
    }
   ],
   "source": [
    "for rel in relations:\n",
    "    quiver = linear_quiver(n, rel)\n",
    "    \n",
    "    print(\"Relation:\", rel)\n",
    "    print(\"CY Dimension:\", lq.serre_resolution(50))\n",
    "    print(\"-\" * 50)"
   ]
  },
  {
   "cell_type": "markdown",
   "id": "73c3ab84",
   "metadata": {},
   "source": [
    "# First \"Problematic\" Relation"
   ]
  },
  {
   "cell_type": "code",
   "execution_count": 15,
   "id": "fa12602f",
   "metadata": {},
   "outputs": [
    {
     "name": "stdout",
     "output_type": "stream",
     "text": [
      "Relation: ((1, 4),)\n",
      "Result: (True, 5, '+')\n",
      "--------------------------------------------------\n",
      "Relation: ((2, 5),)\n",
      "Result: (True, 12, '+')\n",
      "--------------------------------------------------\n",
      "Relation: ((3, 6),)\n",
      "Result: (True, 5, '+')\n",
      "--------------------------------------------------\n",
      "Relation: ((1, 4), (2, 5))\n",
      "Result: (True, 5, '+')\n",
      "--------------------------------------------------\n",
      "Relation: ((1, 4), (3, 6))\n",
      "Result: (False, 1000000, 'N/A')\n",
      "--------------------------------------------------\n",
      "Relation: ((2, 5), (3, 6))\n",
      "Result: (True, 5, '+')\n",
      "--------------------------------------------------\n",
      "Relation: ((1, 4), (2, 5), (3, 6))\n",
      "Result: (True, 12, '+')\n",
      "--------------------------------------------------\n"
     ]
    }
   ],
   "source": [
    "rels = length_k_relations(6,3)\n",
    "for rel in rels:\n",
    "    quiv = linear_quiver(6, rel)\n",
    "    pr = quiv.projective_resolution()\n",
    "    pr_mat = quiv.matrix_of_proj_res(pr)\n",
    "    print(\"Relation:\", rel)\n",
    "    print(\"Result:\", lq.is_fcy(pr_mat, 10**6))\n",
    "    print(\"-\" * 50)"
   ]
  },
  {
   "cell_type": "code",
   "execution_count": 17,
   "id": "e8aeb35a",
   "metadata": {},
   "outputs": [
    {
     "name": "stdout",
     "output_type": "stream",
     "text": [
      "max_iter reached: 150\n"
     ]
    }
   ],
   "source": [
    "rel = [(1,4), (3,6)]\n",
    "quiv = linear_quiver(6, rel)\n",
    "print(quiv.serre_resolution(150))"
   ]
  },
  {
   "cell_type": "code",
   "execution_count": null,
   "id": "1a0e3623",
   "metadata": {},
   "outputs": [],
   "source": []
  }
 ],
 "metadata": {
  "kernelspec": {
   "display_name": "Python 3 (ipykernel)",
   "language": "python",
   "name": "python3"
  },
  "language_info": {
   "codemirror_mode": {
    "name": "ipython",
    "version": 3
   },
   "file_extension": ".py",
   "mimetype": "text/x-python",
   "name": "python",
   "nbconvert_exporter": "python",
   "pygments_lexer": "ipython3",
   "version": "3.10.9"
  }
 },
 "nbformat": 4,
 "nbformat_minor": 5
}
