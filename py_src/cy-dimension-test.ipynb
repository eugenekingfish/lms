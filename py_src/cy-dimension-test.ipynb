{
 "cells": [
  {
   "cell_type": "code",
   "execution_count": 1,
   "id": "6c52bde2",
   "metadata": {},
   "outputs": [],
   "source": [
    "from linear_quivers import *\n",
    "from relations import *"
   ]
  },
  {
   "cell_type": "code",
   "execution_count": 2,
   "id": "1d0f3a6d",
   "metadata": {},
   "outputs": [],
   "source": [
    "l = 3\n",
    "max_n = 7\n",
    "serre_max = 20"
   ]
  },
  {
   "cell_type": "code",
   "execution_count": 20,
   "id": "5f029f61",
   "metadata": {},
   "outputs": [],
   "source": [
    "def cy_dim_test(n, l, serre_max):\n",
    "    cy_dims = []\n",
    "    relations = length_k_relations(n, l)\n",
    "    for rel in relations:\n",
    "        lq = linear_quiver(n, rel)\n",
    "        dim = lq.serre_resolution(serre_max)\n",
    "        cy_dims.append(dim)\n",
    "    print(\"n ->\", n)\n",
    "    print(\"l ->\", l)\n",
    "    print(\"dims ->\", set(cy_dims))\n",
    "    print(\"-\" * 50)    "
   ]
  },
  {
   "cell_type": "code",
   "execution_count": 22,
   "id": "02d757e3",
   "metadata": {},
   "outputs": [
    {
     "ename": "KeyboardInterrupt",
     "evalue": "",
     "output_type": "error",
     "traceback": [
      "\u001b[0;31m---------------------------------------------------------------------------\u001b[0m",
      "\u001b[0;31mKeyboardInterrupt\u001b[0m                         Traceback (most recent call last)",
      "Cell \u001b[0;32mIn[22], line 1\u001b[0m\n\u001b[0;32m----> 1\u001b[0m \u001b[43mcy_dim_test\u001b[49m\u001b[43m(\u001b[49m\u001b[38;5;241;43m8\u001b[39;49m\u001b[43m,\u001b[49m\u001b[43m \u001b[49m\u001b[38;5;241;43m3\u001b[39;49m\u001b[43m,\u001b[49m\u001b[43m \u001b[49m\u001b[38;5;241;43m20\u001b[39;49m\u001b[43m)\u001b[49m\n",
      "Cell \u001b[0;32mIn[20], line 6\u001b[0m, in \u001b[0;36mcy_dim_test\u001b[0;34m(n, l, serre_max)\u001b[0m\n\u001b[1;32m      4\u001b[0m \u001b[38;5;28;01mfor\u001b[39;00m rel \u001b[38;5;129;01min\u001b[39;00m relations:\n\u001b[1;32m      5\u001b[0m     lq \u001b[38;5;241m=\u001b[39m linear_quiver(n, rel)\n\u001b[0;32m----> 6\u001b[0m     dim \u001b[38;5;241m=\u001b[39m \u001b[43mlq\u001b[49m\u001b[38;5;241;43m.\u001b[39;49m\u001b[43mserre_resolution\u001b[49m\u001b[43m(\u001b[49m\u001b[43mserre_max\u001b[49m\u001b[43m)\u001b[49m\n\u001b[1;32m      7\u001b[0m     cy_dims\u001b[38;5;241m.\u001b[39mappend(dim)\n\u001b[1;32m      8\u001b[0m \u001b[38;5;28mprint\u001b[39m(\u001b[38;5;124m\"\u001b[39m\u001b[38;5;124mn ->\u001b[39m\u001b[38;5;124m\"\u001b[39m, n)\n",
      "File \u001b[0;32m~/lms/py_src/linear_quivers.py:190\u001b[0m, in \u001b[0;36mlinear_quiver.serre_resolution\u001b[0;34m(self, max_iter, verbose)\u001b[0m\n\u001b[1;32m    187\u001b[0m terminate \u001b[38;5;241m=\u001b[39m \u001b[38;5;28;01mTrue\u001b[39;00m\n\u001b[1;32m    189\u001b[0m \u001b[38;5;28;01mfor\u001b[39;00m i \u001b[38;5;129;01min\u001b[39;00m \u001b[38;5;28mrange\u001b[39m(\u001b[38;5;28mself\u001b[39m\u001b[38;5;241m.\u001b[39mvertices):\n\u001b[0;32m--> 190\u001b[0m     states[i] \u001b[38;5;241m=\u001b[39m \u001b[38;5;28;43mself\u001b[39;49m\u001b[38;5;241;43m.\u001b[39;49m\u001b[43mserre_functor\u001b[49m\u001b[43m(\u001b[49m\u001b[43mstates\u001b[49m\u001b[43m[\u001b[49m\u001b[43mi\u001b[49m\u001b[43m]\u001b[49m\u001b[43m)\u001b[49m\n\u001b[1;32m    192\u001b[0m     L \u001b[38;5;241m=\u001b[39m states[i]\n\u001b[1;32m    193\u001b[0m     non_zero \u001b[38;5;241m=\u001b[39m \u001b[38;5;241m0\u001b[39m\n",
      "File \u001b[0;32m~/lms/py_src/linear_quivers.py:172\u001b[0m, in \u001b[0;36mlinear_quiver.serre_functor\u001b[0;34m(self, modules)\u001b[0m\n\u001b[1;32m    170\u001b[0m pr \u001b[38;5;241m=\u001b[39m \u001b[38;5;28mself\u001b[39m\u001b[38;5;241m.\u001b[39mprojective_resolution()\n\u001b[1;32m    171\u001b[0m canc_saus \u001b[38;5;241m=\u001b[39m \u001b[38;5;28mself\u001b[39m\u001b[38;5;241m.\u001b[39mserre_prt_one(modules, pr)\n\u001b[0;32m--> 172\u001b[0m canc_saus \u001b[38;5;241m=\u001b[39m \u001b[38;5;28;43mself\u001b[39;49m\u001b[38;5;241;43m.\u001b[39;49m\u001b[43m__cancellation\u001b[49m\u001b[43m(\u001b[49m\u001b[43mcanc_saus\u001b[49m\u001b[43m)\u001b[49m\n\u001b[1;32m    173\u001b[0m canc_saus \u001b[38;5;241m=\u001b[39m \u001b[38;5;28mself\u001b[39m\u001b[38;5;241m.\u001b[39m__remove_empties(canc_saus)\n\u001b[1;32m    174\u001b[0m \u001b[38;5;28;01mreturn\u001b[39;00m canc_saus\n",
      "File \u001b[0;32m~/lms/py_src/linear_quivers.py:145\u001b[0m, in \u001b[0;36mlinear_quiver.__cancellation\u001b[0;34m(self, L)\u001b[0m\n\u001b[1;32m    143\u001b[0m j \u001b[38;5;241m=\u001b[39m \u001b[38;5;241m0\u001b[39m\n\u001b[1;32m    144\u001b[0m \u001b[38;5;28;01mwhile\u001b[39;00m j \u001b[38;5;241m<\u001b[39m \u001b[38;5;28mlen\u001b[39m(L_cpy[i]):\n\u001b[0;32m--> 145\u001b[0m     \u001b[38;5;28;01mif\u001b[39;00m L_cpy[i][j] \u001b[38;5;129;01min\u001b[39;00m L_cpy[i\u001b[38;5;241m+\u001b[39m\u001b[38;5;241m1\u001b[39m]:\n\u001b[1;32m    146\u001b[0m         L_cpy[i\u001b[38;5;241m+\u001b[39m\u001b[38;5;241m1\u001b[39m]\u001b[38;5;241m.\u001b[39mremove(L_cpy[i][j])\n\u001b[1;32m    147\u001b[0m         L_cpy[i]\u001b[38;5;241m.\u001b[39mpop(\u001b[38;5;241m0\u001b[39m)\n",
      "\u001b[0;31mKeyboardInterrupt\u001b[0m: "
     ]
    }
   ],
   "source": [
    "cy_dim_test(8, 3, 20)"
   ]
  },
  {
   "cell_type": "code",
   "execution_count": 39,
   "id": "759d16eb",
   "metadata": {},
   "outputs": [
    {
     "name": "stdout",
     "output_type": "stream",
     "text": [
      "n -> 9\n",
      "l -> 4\n",
      "dims -> {(8, 4), 'max_iter reached: 16'}\n",
      "--------------------------------------------------\n"
     ]
    }
   ],
   "source": [
    "cy_dim_test(9,4,16)"
   ]
  },
  {
   "cell_type": "code",
   "execution_count": 51,
   "id": "cb21271e",
   "metadata": {},
   "outputs": [
    {
     "name": "stdout",
     "output_type": "stream",
     "text": [
      "n -> 10\n",
      "l -> 5\n",
      "dims -> {(9, 6), 'max_iter reached: 15'}\n",
      "--------------------------------------------------\n"
     ]
    }
   ],
   "source": [
    "cy_dim_test(10,5,15)"
   ]
  },
  {
   "cell_type": "code",
   "execution_count": 50,
   "id": "23296e16",
   "metadata": {},
   "outputs": [
    {
     "name": "stdout",
     "output_type": "stream",
     "text": [
      "n -> 10\n",
      "l -> 6\n",
      "dims -> {(9, 6), 'max_iter reached: 20'}\n",
      "--------------------------------------------------\n"
     ]
    }
   ],
   "source": [
    "cy_dim_test(10,6,20)"
   ]
  },
  {
   "cell_type": "code",
   "execution_count": 48,
   "id": "ada69027",
   "metadata": {},
   "outputs": [
    {
     "ename": "KeyboardInterrupt",
     "evalue": "",
     "output_type": "error",
     "traceback": [
      "\u001b[0;31m---------------------------------------------------------------------------\u001b[0m",
      "\u001b[0;31mKeyboardInterrupt\u001b[0m                         Traceback (most recent call last)",
      "Cell \u001b[0;32mIn[48], line 1\u001b[0m\n\u001b[0;32m----> 1\u001b[0m \u001b[43mcy_dim_test\u001b[49m\u001b[43m(\u001b[49m\u001b[38;5;241;43m10\u001b[39;49m\u001b[43m,\u001b[49m\u001b[38;5;241;43m7\u001b[39;49m\u001b[43m,\u001b[49m\u001b[38;5;241;43m25\u001b[39;49m\u001b[43m)\u001b[49m\n",
      "Cell \u001b[0;32mIn[20], line 6\u001b[0m, in \u001b[0;36mcy_dim_test\u001b[0;34m(n, l, serre_max)\u001b[0m\n\u001b[1;32m      4\u001b[0m \u001b[38;5;28;01mfor\u001b[39;00m rel \u001b[38;5;129;01min\u001b[39;00m relations:\n\u001b[1;32m      5\u001b[0m     lq \u001b[38;5;241m=\u001b[39m linear_quiver(n, rel)\n\u001b[0;32m----> 6\u001b[0m     dim \u001b[38;5;241m=\u001b[39m \u001b[43mlq\u001b[49m\u001b[38;5;241;43m.\u001b[39;49m\u001b[43mserre_resolution\u001b[49m\u001b[43m(\u001b[49m\u001b[43mserre_max\u001b[49m\u001b[43m)\u001b[49m\n\u001b[1;32m      7\u001b[0m     cy_dims\u001b[38;5;241m.\u001b[39mappend(dim)\n\u001b[1;32m      8\u001b[0m \u001b[38;5;28mprint\u001b[39m(\u001b[38;5;124m\"\u001b[39m\u001b[38;5;124mn ->\u001b[39m\u001b[38;5;124m\"\u001b[39m, n)\n",
      "File \u001b[0;32m~/lms/py_src/linear_quivers.py:190\u001b[0m, in \u001b[0;36mlinear_quiver.serre_resolution\u001b[0;34m(self, max_iter, verbose)\u001b[0m\n\u001b[1;32m    187\u001b[0m terminate \u001b[38;5;241m=\u001b[39m \u001b[38;5;28;01mTrue\u001b[39;00m\n\u001b[1;32m    189\u001b[0m \u001b[38;5;28;01mfor\u001b[39;00m i \u001b[38;5;129;01min\u001b[39;00m \u001b[38;5;28mrange\u001b[39m(\u001b[38;5;28mself\u001b[39m\u001b[38;5;241m.\u001b[39mvertices):\n\u001b[0;32m--> 190\u001b[0m     states[i] \u001b[38;5;241m=\u001b[39m \u001b[38;5;28;43mself\u001b[39;49m\u001b[38;5;241;43m.\u001b[39;49m\u001b[43mserre_functor\u001b[49m\u001b[43m(\u001b[49m\u001b[43mstates\u001b[49m\u001b[43m[\u001b[49m\u001b[43mi\u001b[49m\u001b[43m]\u001b[49m\u001b[43m)\u001b[49m\n\u001b[1;32m    192\u001b[0m     L \u001b[38;5;241m=\u001b[39m states[i]\n\u001b[1;32m    193\u001b[0m     non_zero \u001b[38;5;241m=\u001b[39m \u001b[38;5;241m0\u001b[39m\n",
      "File \u001b[0;32m~/lms/py_src/linear_quivers.py:172\u001b[0m, in \u001b[0;36mlinear_quiver.serre_functor\u001b[0;34m(self, modules)\u001b[0m\n\u001b[1;32m    170\u001b[0m pr \u001b[38;5;241m=\u001b[39m \u001b[38;5;28mself\u001b[39m\u001b[38;5;241m.\u001b[39mprojective_resolution()\n\u001b[1;32m    171\u001b[0m canc_saus \u001b[38;5;241m=\u001b[39m \u001b[38;5;28mself\u001b[39m\u001b[38;5;241m.\u001b[39mserre_prt_one(modules, pr)\n\u001b[0;32m--> 172\u001b[0m canc_saus \u001b[38;5;241m=\u001b[39m \u001b[38;5;28;43mself\u001b[39;49m\u001b[38;5;241;43m.\u001b[39;49m\u001b[43m__cancellation\u001b[49m\u001b[43m(\u001b[49m\u001b[43mcanc_saus\u001b[49m\u001b[43m)\u001b[49m\n\u001b[1;32m    173\u001b[0m canc_saus \u001b[38;5;241m=\u001b[39m \u001b[38;5;28mself\u001b[39m\u001b[38;5;241m.\u001b[39m__remove_empties(canc_saus)\n\u001b[1;32m    174\u001b[0m \u001b[38;5;28;01mreturn\u001b[39;00m canc_saus\n",
      "File \u001b[0;32m~/lms/py_src/linear_quivers.py:145\u001b[0m, in \u001b[0;36mlinear_quiver.__cancellation\u001b[0;34m(self, L)\u001b[0m\n\u001b[1;32m    143\u001b[0m j \u001b[38;5;241m=\u001b[39m \u001b[38;5;241m0\u001b[39m\n\u001b[1;32m    144\u001b[0m \u001b[38;5;28;01mwhile\u001b[39;00m j \u001b[38;5;241m<\u001b[39m \u001b[38;5;28mlen\u001b[39m(L_cpy[i]):\n\u001b[0;32m--> 145\u001b[0m     \u001b[38;5;28;01mif\u001b[39;00m L_cpy[i][j] \u001b[38;5;129;01min\u001b[39;00m L_cpy[i\u001b[38;5;241m+\u001b[39m\u001b[38;5;241m1\u001b[39m]:\n\u001b[1;32m    146\u001b[0m         L_cpy[i\u001b[38;5;241m+\u001b[39m\u001b[38;5;241m1\u001b[39m]\u001b[38;5;241m.\u001b[39mremove(L_cpy[i][j])\n\u001b[1;32m    147\u001b[0m         L_cpy[i]\u001b[38;5;241m.\u001b[39mpop(\u001b[38;5;241m0\u001b[39m)\n",
      "\u001b[0;31mKeyboardInterrupt\u001b[0m: "
     ]
    }
   ],
   "source": [
    "cy_dim_test(10,7,25)"
   ]
  },
  {
   "cell_type": "code",
   "execution_count": 45,
   "id": "e6721c46",
   "metadata": {},
   "outputs": [
    {
     "name": "stdout",
     "output_type": "stream",
     "text": [
      "n -> 10\n",
      "l -> 8\n",
      "dims -> {'max_iter reached: 40'}\n",
      "--------------------------------------------------\n"
     ]
    }
   ],
   "source": [
    "cy_dim_test(10,8,40)"
   ]
  },
  {
   "cell_type": "code",
   "execution_count": 53,
   "id": "14d48d47",
   "metadata": {},
   "outputs": [
    {
     "name": "stdout",
     "output_type": "stream",
     "text": [
      "n -> 11\n",
      "l -> 10\n",
      "dims -> {(10, 20)}\n",
      "--------------------------------------------------\n"
     ]
    }
   ],
   "source": [
    "cy_dim_test(11,10,25)"
   ]
  },
  {
   "cell_type": "code",
   "execution_count": 65,
   "id": "d101993b",
   "metadata": {},
   "outputs": [
    {
     "name": "stdout",
     "output_type": "stream",
     "text": [
      "4 (3, 5)\n",
      "5 (4, 8)\n",
      "6 (5, 12)\n",
      "7 (6, 9)\n",
      "8 (7, 15)\n",
      "9 max_iter reached: 20\n"
     ]
    }
   ],
   "source": [
    "for n in range(4,10):\n",
    "    rels = length_k_relations(n,n-2)\n",
    "    rel = rels[0]\n",
    "    lq = linear_quiver(n, rel)\n",
    "    print(n, lq.serre_resolution(20))"
   ]
  },
  {
   "cell_type": "code",
   "execution_count": 66,
   "id": "19b5c772",
   "metadata": {},
   "outputs": [],
   "source": [
    "import pandas as pd"
   ]
  },
  {
   "cell_type": "code",
   "execution_count": 122,
   "id": "c67150fa",
   "metadata": {},
   "outputs": [],
   "source": [
    "def generate_pass_table(max_n, max_serre):\n",
    "    data = np.full((max_n, max_n), np.NaN, dtype=tuple)\n",
    "    for n in range(3, max_n + 1):\n",
    "\n",
    "        for l in range(3, n):\n",
    "            rels = length_k_relations(n,l)\n",
    "            passes = 0 \n",
    "            results = []\n",
    "\n",
    "            for rel in rels:\n",
    "                lq = linear_quiver(n, rel) \n",
    "                result = lq.serre_resolution(max_serre)\n",
    "                \n",
    "                if type(result) != type(\"\"):\n",
    "                    results.append(result)\n",
    "            \n",
    "            data[n-1][l-1] = set(results)\n",
    "\n",
    "\n",
    "\n",
    "\n",
    "    labels = [i for i in range(1,n+1)]\n",
    "    df = pd.DataFrame(data, columns=labels, index=labels)\n",
    "    df.columns.name = \"l\"\n",
    "\n",
    "    print(df)"
   ]
  },
  {
   "cell_type": "code",
   "execution_count": 119,
   "id": "482c6dd7",
   "metadata": {},
   "outputs": [
    {
     "name": "stdout",
     "output_type": "stream",
     "text": [
      "l    1         2                  3          4         5          6    7\n",
      "1  NaN       NaN                NaN        NaN       NaN        NaN  NaN\n",
      "2  NaN       NaN                NaN        NaN       NaN        NaN  NaN\n",
      "3  NaN  {(2, 4)}                NaN        NaN       NaN        NaN  NaN\n",
      "4  NaN  {(3, 5)}           {(3, 3)}        NaN       NaN        NaN  NaN\n",
      "5  NaN  {(4, 6)}           {(4, 8)}   {(4, 8)}       NaN        NaN  NaN\n",
      "6  NaN  {(5, 7)}  {(5, 5), (5, 12)}  {(5, 12)}  {(5, 5)}        NaN  NaN\n",
      "7  NaN  {(6, 8)}  {(6, 12), (6, 9)}   {(6, 9)}  {(6, 9)}  {(6, 12)}  NaN\n"
     ]
    }
   ],
   "source": [
    "generate_pass_table(7, 20)"
   ]
  },
  {
   "cell_type": "code",
   "execution_count": null,
   "id": "32131453",
   "metadata": {},
   "outputs": [],
   "source": [
    "generate_pass_table(8, 20)"
   ]
  },
  {
   "cell_type": "code",
   "execution_count": null,
   "id": "5834fb06",
   "metadata": {},
   "outputs": [],
   "source": []
  }
 ],
 "metadata": {
  "kernelspec": {
   "display_name": "Python 3 (ipykernel)",
   "language": "python",
   "name": "python3"
  },
  "language_info": {
   "codemirror_mode": {
    "name": "ipython",
    "version": 3
   },
   "file_extension": ".py",
   "mimetype": "text/x-python",
   "name": "python",
   "nbconvert_exporter": "python",
   "pygments_lexer": "ipython3",
   "version": "3.10.9"
  }
 },
 "nbformat": 4,
 "nbformat_minor": 5
}
