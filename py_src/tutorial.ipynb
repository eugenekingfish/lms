{
 "cells": [
  {
   "cell_type": "markdown",
   "id": "168d842a",
   "metadata": {},
   "source": [
    "# Tutorial\n",
    "***\n",
    "This tutorial covers most of the features available in the Python source code. I hope that this serves as a helpful \"get started\" resource."
   ]
  },
  {
   "cell_type": "markdown",
   "id": "d96c7c6c",
   "metadata": {},
   "source": [
    "## Projective and Injective Modules\n",
    "***"
   ]
  },
  {
   "cell_type": "markdown",
   "id": "b451dd59",
   "metadata": {},
   "source": [
    "Firstly, we'll import the required files."
   ]
  },
  {
   "cell_type": "code",
   "execution_count": 1,
   "id": "5827f09b",
   "metadata": {},
   "outputs": [],
   "source": [
    "from relations import *\n",
    "from linear_quivers import *\n",
    "from linear_module import *"
   ]
  },
  {
   "cell_type": "markdown",
   "id": "35d6311f",
   "metadata": {},
   "source": [
    "One of the first things that we want to do is create a linear quiver. To do so, we must know two things: the number of vertices in the quiver and quiver's relations. We will initialise the number of vertices to 5 and the relations to be the empty list, representing no relations."
   ]
  },
  {
   "cell_type": "code",
   "execution_count": 2,
   "id": "165212e2",
   "metadata": {},
   "outputs": [],
   "source": [
    "n = 5 # Number of vertices in the quiver\n",
    "relations = [] # The quiver's relations"
   ]
  },
  {
   "cell_type": "markdown",
   "id": "e7d892ca",
   "metadata": {},
   "source": [
    "We can now create a quiver using these two variables."
   ]
  },
  {
   "cell_type": "code",
   "execution_count": 3,
   "id": "b27dcdd9",
   "metadata": {},
   "outputs": [],
   "source": [
    "lq = linear_quiver(n, relations) # Creating the linear quiver"
   ]
  },
  {
   "cell_type": "markdown",
   "id": "914c1a32",
   "metadata": {},
   "source": [
    "When a ``linear_quiver`` object is created, the private method ``__calculate_jectives`` gets called in the constructor. This method calculates the quiver's projective and injective modules, and stores them in the class variable ``self.jectives``. "
   ]
  },
  {
   "cell_type": "markdown",
   "id": "a25fbf24",
   "metadata": {},
   "source": [
    "We define a **\"jective\"** to be the pair ``(projective_module, injective_module)``. There are four getter methods related to these jectives:\n",
    "* ``get_jectives()`` returns ``self.jectives`` (a list containing all of the jectives)\n",
    "* ``get_nth_jective(n)`` returns the $n$<sup>th</sup> jective from ``self.jectives``\n",
    "* ``get_nth_projective(n)`` returns the $n$<sup>th</sup> projective module\n",
    "* ``get_nth_injective(n)`` returns the $n$<sup>th</sup> injective module"
   ]
  },
  {
   "cell_type": "markdown",
   "id": "b71634bc",
   "metadata": {},
   "source": [
    "We'll now use these methods on our quiver ``lq``."
   ]
  },
  {
   "cell_type": "code",
   "execution_count": 4,
   "id": "40be976a",
   "metadata": {},
   "outputs": [
    {
     "data": {
      "text/plain": [
       "[[[1, 1], [5, 1]],\n",
       " [[2, 1], [5, 2]],\n",
       " [[3, 1], [5, 3]],\n",
       " [[4, 1], [5, 4]],\n",
       " [[5, 1], [5, 5]]]"
      ]
     },
     "execution_count": 4,
     "metadata": {},
     "output_type": "execute_result"
    }
   ],
   "source": [
    "jectives = lq.get_jectives() # Obtaining the \"jectives\"\n",
    "jectives"
   ]
  },
  {
   "cell_type": "markdown",
   "id": "fc8531aa",
   "metadata": {},
   "source": [
    "**Note:** Here, we are making use of shorthand notation for the injective and projective modules. We use ``[a,b]``, with $a \\geq b$, for the projective and injective modules, which is shorthand for the module with composition factors``[a, a-1, ..., b+1, b]``."
   ]
  },
  {
   "cell_type": "code",
   "execution_count": 5,
   "id": "56a0e8b4",
   "metadata": {},
   "outputs": [
    {
     "data": {
      "text/plain": [
       "[[3, 1], [5, 3]]"
      ]
     },
     "execution_count": 5,
     "metadata": {},
     "output_type": "execute_result"
    }
   ],
   "source": [
    "third_jective = lq.get_nth_jective(3) # Obtaining the third jective\n",
    "third_jective"
   ]
  },
  {
   "cell_type": "markdown",
   "id": "959941f2",
   "metadata": {},
   "source": [
    "Alternatively, we can obtain the third projective and injective module separately."
   ]
  },
  {
   "cell_type": "code",
   "execution_count": 6,
   "id": "3ed9b433",
   "metadata": {},
   "outputs": [
    {
     "data": {
      "text/plain": [
       "[[3, 1], [5, 3]]"
      ]
     },
     "execution_count": 6,
     "metadata": {},
     "output_type": "execute_result"
    }
   ],
   "source": [
    "third_injective = lq.get_nth_injective(3) # Obtaining the third injective module\n",
    "third_projective = lq.get_nth_projective(3) # Obtaining the third projective module\n",
    "[third_projective, third_injective]"
   ]
  },
  {
   "cell_type": "markdown",
   "id": "015d72cc",
   "metadata": {},
   "source": [
    "## Projective Resolutions\n",
    "***"
   ]
  },
  {
   "cell_type": "markdown",
   "id": "e8735db2",
   "metadata": {},
   "source": [
    "Given a module $M$, we can compute its projective resolution by calling the aptly named ``projective_resolution_of_module`` class method."
   ]
  },
  {
   "cell_type": "code",
   "execution_count": 7,
   "id": "8d92408b",
   "metadata": {},
   "outputs": [
    {
     "data": {
      "text/plain": [
       "[3, 2]"
      ]
     },
     "execution_count": 7,
     "metadata": {},
     "output_type": "execute_result"
    }
   ],
   "source": [
    "M = [3,3] # Our module of choice\n",
    "pr_M = lq.projective_resolution_of_module(M)\n",
    "pr_M"
   ]
  },
  {
   "cell_type": "markdown",
   "id": "44ab160b",
   "metadata": {},
   "source": [
    "One useful thing that we can do is compute the projective resolution of the injective modules for ``lq``. This is done easily enough using the ``projective_resolution_of_injectives`` class method."
   ]
  },
  {
   "cell_type": "code",
   "execution_count": 8,
   "id": "207c063b",
   "metadata": {},
   "outputs": [
    {
     "data": {
      "text/plain": [
       "[[5], [5, 1], [5, 2], [5, 3], [5, 4]]"
      ]
     },
     "execution_count": 8,
     "metadata": {},
     "output_type": "execute_result"
    }
   ],
   "source": [
    "proj_res_inj = lq.projective_resolution_of_injectives() # Obtaining the projective resolution]\n",
    "proj_res_inj"
   ]
  },
  {
   "cell_type": "markdown",
   "id": "6b741b54",
   "metadata": {},
   "source": [
    "After computing this, we can find the matrix of this list of projective resolutions using the static class method ``matrix_of_proj_res``, which takes a list of $n$ projective modules as its parameter."
   ]
  },
  {
   "cell_type": "code",
   "execution_count": 9,
   "id": "dc690319",
   "metadata": {},
   "outputs": [
    {
     "data": {
      "text/plain": [
       "array([[ 0, -1,  0,  0,  0],\n",
       "       [ 0,  0, -1,  0,  0],\n",
       "       [ 0,  0,  0, -1,  0],\n",
       "       [ 0,  0,  0,  0, -1],\n",
       "       [ 1,  1,  1,  1,  1]])"
      ]
     },
     "execution_count": 9,
     "metadata": {},
     "output_type": "execute_result"
    }
   ],
   "source": [
    "proj_res_mat = lq.matrix_of_proj_res(proj_res_inj) # Obtaining the matrix of the projective resolution\n",
    "proj_res_mat"
   ]
  },
  {
   "cell_type": "markdown",
   "id": "40c1cb0c",
   "metadata": {},
   "source": [
    "With this matrix, we can then check whether the algebra ``lq`` appears to be fractional Calabi-Yau (fCY) on the Grothendieck group by checking whether ``proj_res_mat`` has finite order. This can be done using the static class method ``is_fcy_gg``, which takes (in this order) a projective resolution matrix, a maximum integer power to raise the matrix to, and an optional boolean value for verbose output (defaulted to ``False``) as parameters."
   ]
  },
  {
   "cell_type": "code",
   "execution_count": 10,
   "id": "423e3202",
   "metadata": {},
   "outputs": [
    {
     "data": {
      "text/plain": [
       "(True, 6, '+')"
      ]
     },
     "execution_count": 10,
     "metadata": {},
     "output_type": "execute_result"
    }
   ],
   "source": [
    "fcy_output = linear_quiver.is_fcy_gg(proj_res_mat, 50) \n",
    "fcy_output"
   ]
  },
  {
   "cell_type": "markdown",
   "id": "aff9b80e",
   "metadata": {},
   "source": [
    "The ``fcy_output`` tuple tells us that ``lq`` appears to be fCY on the Grothendieck group (indicated by `True`) and that we must raise ``proj_res_mat`` to the power of 6 for it to be the identity matrix (indicated by the `'+'`). If the third tuple element was `'-'`, this would indicate that ``proj_res_mat`` raised to the sixth power was negative the identity matrix."
   ]
  },
  {
   "cell_type": "markdown",
   "id": "e83aa44e",
   "metadata": {},
   "source": [
    "We can also get verbose output, which prints the matrix at each stage of multiplication."
   ]
  },
  {
   "cell_type": "code",
   "execution_count": 11,
   "id": "9e1caa18",
   "metadata": {},
   "outputs": [
    {
     "name": "stdout",
     "output_type": "stream",
     "text": [
      "Power:  2\n",
      "[[ 0  0  1  0  0]\n",
      " [ 0  0  0  1  0]\n",
      " [ 0  0  0  0  1]\n",
      " [-1 -1 -1 -1 -1]\n",
      " [ 1  0  0  0  0]]\n",
      "\n",
      "Power:  3\n",
      "[[ 0  0  0 -1  0]\n",
      " [ 0  0  0  0 -1]\n",
      " [ 1  1  1  1  1]\n",
      " [-1  0  0  0  0]\n",
      " [ 0 -1  0  0  0]]\n",
      "\n",
      "Power:  4\n",
      "[[ 0  0  0  0  1]\n",
      " [-1 -1 -1 -1 -1]\n",
      " [ 1  0  0  0  0]\n",
      " [ 0  1  0  0  0]\n",
      " [ 0  0  1  0  0]]\n",
      "\n",
      "Power:  5\n",
      "[[ 1  1  1  1  1]\n",
      " [-1  0  0  0  0]\n",
      " [ 0 -1  0  0  0]\n",
      " [ 0  0 -1  0  0]\n",
      " [ 0  0  0 -1  0]]\n",
      "\n",
      "Power:  6\n",
      "[[1 0 0 0 0]\n",
      " [0 1 0 0 0]\n",
      " [0 0 1 0 0]\n",
      " [0 0 0 1 0]\n",
      " [0 0 0 0 1]]\n",
      "\n"
     ]
    },
    {
     "data": {
      "text/plain": [
       "(True, 6, '+')"
      ]
     },
     "execution_count": 11,
     "metadata": {},
     "output_type": "execute_result"
    }
   ],
   "source": [
    "fcy_output = linear_quiver.is_fcy_gg(proj_res_mat, 50, verbose = True) \n",
    "fcy_output"
   ]
  },
  {
   "cell_type": "markdown",
   "id": "008e3248",
   "metadata": {},
   "source": [
    "Since we know that the power must be 6, if we choose to test to a power lower than 6, then we should expect to get a different output."
   ]
  },
  {
   "cell_type": "code",
   "execution_count": 12,
   "id": "4093242f",
   "metadata": {},
   "outputs": [
    {
     "data": {
      "text/plain": [
       "(False, 5, 'N/A')"
      ]
     },
     "execution_count": 12,
     "metadata": {},
     "output_type": "execute_result"
    }
   ],
   "source": [
    "fcy_output_alt = linear_quiver.is_fcy_gg(proj_res_mat, 5)\n",
    "fcy_output_alt"
   ]
  },
  {
   "cell_type": "markdown",
   "id": "84c13a8e",
   "metadata": {},
   "source": [
    "Here, the ``False`` indicates that we never reached plus/minus the identity matrix, the ``5`` represents the maximum power that we raised the matrix to, and ``N/A`` is in place of ``+`` or ``-``."
   ]
  },
  {
   "cell_type": "markdown",
   "id": "64c4344c",
   "metadata": {},
   "source": [
    "## Serre Functors"
   ]
  },
  {
   "cell_type": "markdown",
   "id": "9ff0a9a0",
   "metadata": {},
   "source": [
    "Moving away from matrices and back to projective resolutions, we will begin by showing how to apply the Serre functor to modules. We'll do so by applying the Serre functor to the module ``[3]``."
   ]
  },
  {
   "cell_type": "code",
   "execution_count": 13,
   "id": "3ef90352",
   "metadata": {},
   "outputs": [
    {
     "data": {
      "text/plain": [
       "[[5], [2]]"
      ]
     },
     "execution_count": 13,
     "metadata": {},
     "output_type": "execute_result"
    }
   ],
   "source": [
    "module = [3] # Our module of choice\n",
    "serre_third = lq.serre_functor([module]) # Applying the Serre functor to the module [3]\n",
    "serre_third"
   ]
  },
  {
   "cell_type": "markdown",
   "id": "21b42520",
   "metadata": {},
   "source": [
    "**Note:** ``serre_functor`` expects to be passed a list of modules, so we had to pass ``[module]`` to the ``serre_functor`` method instead of ``module``."
   ]
  },
  {
   "cell_type": "markdown",
   "id": "5a5e3e0e",
   "metadata": {},
   "source": [
    "What's useful about this method, is that we can apply it to the output."
   ]
  },
  {
   "cell_type": "code",
   "execution_count": 14,
   "id": "59d4884c",
   "metadata": {},
   "outputs": [
    {
     "data": {
      "text/plain": [
       "[[], [4], [1]]"
      ]
     },
     "execution_count": 14,
     "metadata": {},
     "output_type": "execute_result"
    }
   ],
   "source": [
    "serre_third = lq.serre_functor(serre_third) # Applying the Serre functor to the third projective twice\n",
    "serre_third"
   ]
  },
  {
   "cell_type": "markdown",
   "id": "533cac4a",
   "metadata": {},
   "source": [
    "Let's go slightly further and use a ``for`` loop to apply the Serre functor 10 times to the module ``[1]``."
   ]
  },
  {
   "cell_type": "code",
   "execution_count": 15,
   "id": "78cbe5fa",
   "metadata": {},
   "outputs": [
    {
     "name": "stdout",
     "output_type": "stream",
     "text": [
      "0 [[1]]\n",
      "1 [[5]]\n",
      "2 [[5], [4]]\n",
      "3 [[], [4], [3]]\n",
      "4 [[], [], [3], [2]]\n",
      "5 [[], [], [], [2], [1]]\n",
      "6 [[], [], [], [], [1]]\n",
      "7 [[], [], [], [], [5]]\n",
      "8 [[], [], [], [], [5], [4]]\n",
      "9 [[], [], [], [], [], [4], [3]]\n",
      "10 [[], [], [], [], [], [], [3], [2]]\n"
     ]
    }
   ],
   "source": [
    "mod = [1] # Obtaining the fourth projective module\n",
    "serre_out = lq.serre_functor([mod]) # Applying the Serre functor once\n",
    "\n",
    "print(0, [[1]])\n",
    "print(1, serre_out)\n",
    "\n",
    "for i in range(9):\n",
    "    serre_out = lq.serre_functor(serre_out)\n",
    "    print(i+2, serre_out)\n"
   ]
  },
  {
   "cell_type": "markdown",
   "id": "a0c198bc",
   "metadata": {},
   "source": [
    "Finally, we can use the class method ``fcy_dim`` to compute the Calabi-Yau dimension of ``lq``. This method takes a single integer parameter referring to the maximum number of times to apply the Serre functor."
   ]
  },
  {
   "cell_type": "code",
   "execution_count": 16,
   "id": "af568395",
   "metadata": {},
   "outputs": [
    {
     "data": {
      "text/plain": [
       "(4, 6)"
      ]
     },
     "execution_count": 16,
     "metadata": {},
     "output_type": "execute_result"
    }
   ],
   "source": [
    "dim = lq.fcy_dim(40) \n",
    "dim"
   ]
  },
  {
   "cell_type": "markdown",
   "id": "f4f177d2",
   "metadata": {},
   "source": [
    "The output of ``fcy_dim`` is a tuple $(r,s)$ representing that $\\$^s \\cong \\Sigma^r$. In our case, we obtained a Calabi-Yau dimension of the form ``(n-1, n+1)``, with $n=5$ in our quiver `lq`, which is exactly the resulted expected for a quiver with no relations."
   ]
  },
  {
   "cell_type": "markdown",
   "id": "dbfc9635",
   "metadata": {},
   "source": [
    "Similar to ``is_fcy_gg``, we can also get verbose output detailing the Serre functor's output at each step."
   ]
  },
  {
   "cell_type": "code",
   "execution_count": 17,
   "id": "2e48f91b",
   "metadata": {},
   "outputs": [
    {
     "name": "stdout",
     "output_type": "stream",
     "text": [
      "0 --> [[[1]], [[2]], [[3]], [[4]], [[5]]]\n",
      "1 --> [[[5]], [[5], [1]], [[5], [2]], [[5], [3]], [[5], [4]]]\n",
      "2 --> [[[5], [4]], [[], [4]], [[], [4], [1]], [[], [4], [2]], [[], [4], [3]]]\n",
      "3 --> [[[], [4], [3]], [[], [5], [3]], [[], [], [3]], [[], [], [3], [1]], [[], [], [3], [2]]]\n",
      "4 --> [[[], [], [3], [2]], [[], [], [4], [2]], [[], [], [5], [2]], [[], [], [], [2]], [[], [], [], [2], [1]]]\n",
      "5 --> [[[], [], [], [2], [1]], [[], [], [], [3], [1]], [[], [], [], [4], [1]], [[], [], [], [5], [1]], [[], [], [], [], [1]]]\n",
      "FINAL --> [[[], [], [], [], [1]], [[], [], [], [], [2]], [[], [], [], [], [3]], [[], [], [], [], [4]], [[], [], [], [], [5]]]\n"
     ]
    },
    {
     "data": {
      "text/plain": [
       "(4, 6)"
      ]
     },
     "execution_count": 17,
     "metadata": {},
     "output_type": "execute_result"
    }
   ],
   "source": [
    "dim = lq.fcy_dim(40, verbose = True) \n",
    "dim"
   ]
  },
  {
   "cell_type": "markdown",
   "id": "f66367cc",
   "metadata": {},
   "source": [
    "Since our dimension is ``(4,6)``, we know that must apply the Serre functor 4 times. Since $40 \\geq 4$, we were able to calculate the dimension. However, if we passed ``3`` instead of ``40`` into the ``fcy_dim`` function, we would get a different output."
   ]
  },
  {
   "cell_type": "code",
   "execution_count": 18,
   "id": "2ea0a307",
   "metadata": {},
   "outputs": [
    {
     "data": {
      "text/plain": [
       "'max_iter reached: 3'"
      ]
     },
     "execution_count": 18,
     "metadata": {},
     "output_type": "execute_result"
    }
   ],
   "source": [
    "dim = lq.fcy_dim(3)\n",
    "dim"
   ]
  },
  {
   "cell_type": "markdown",
   "id": "2935915c",
   "metadata": {},
   "source": [
    "This output tells us that for every $1 \\leq i \\leq 3$, we have that $\\$^i \\not\\cong \\Sigma^r$ for some $r$. After applying the Serre functor 3 times, the algorithm stops and returns this output."
   ]
  },
  {
   "cell_type": "markdown",
   "id": "4d472b31",
   "metadata": {},
   "source": [
    "## Generating Relations\n",
    "***"
   ]
  },
  {
   "cell_type": "markdown",
   "id": "6b6efd18",
   "metadata": {},
   "source": [
    "The file ``relations.py`` has a single function: ``generate_length_k_relations``. This takes two parameters: ``n`` (the number of vertices in the quiver) and ``k`` (the length of the relations). Utilising this, we can write a simple script to perform an fCY test for a quiver against all length ``k`` relations."
   ]
  },
  {
   "cell_type": "code",
   "execution_count": 19,
   "id": "13282e3e",
   "metadata": {},
   "outputs": [
    {
     "data": {
      "text/plain": [
       "[((1, 4),), ((2, 5),), ((1, 4), (2, 5))]"
      ]
     },
     "execution_count": 19,
     "metadata": {},
     "output_type": "execute_result"
    }
   ],
   "source": [
    "relations = length_k_relations(5, 3) # All length 3 three for a quiver with 5 vertices\n",
    "relations"
   ]
  },
  {
   "cell_type": "code",
   "execution_count": 20,
   "id": "1917b26c",
   "metadata": {},
   "outputs": [
    {
     "name": "stdout",
     "output_type": "stream",
     "text": [
      "(True, 8, '+')\n",
      "(True, 8, '+')\n",
      "(True, 8, '+')\n"
     ]
    }
   ],
   "source": [
    "for rel in relations:\n",
    "    lq = linear_quiver(5, rel)\n",
    "    pr = lq.projective_resolution_of_injectives()\n",
    "    mat_pr = lq.matrix_of_proj_res(pr)\n",
    "    print(linear_quiver.is_fcy_gg(mat_pr, 50))"
   ]
  },
  {
   "cell_type": "markdown",
   "id": "c8dc9e1c",
   "metadata": {},
   "source": [
    "We can also do a similar thing for Serre resolutions."
   ]
  },
  {
   "cell_type": "code",
   "execution_count": 21,
   "id": "ea922337",
   "metadata": {},
   "outputs": [
    {
     "name": "stdout",
     "output_type": "stream",
     "text": [
      "(4, 8)\n",
      "(4, 8)\n",
      "(4, 8)\n"
     ]
    }
   ],
   "source": [
    "for rel in relations:\n",
    "    lq = linear_quiver(5, rel)\n",
    "    print(lq.fcy_dim(50))"
   ]
  },
  {
   "cell_type": "markdown",
   "id": "82034cc4",
   "metadata": {},
   "source": [
    "***\n",
    "**END OF TUTORIAL**"
   ]
  }
 ],
 "metadata": {
  "kernelspec": {
   "display_name": "Python 3 (ipykernel)",
   "language": "python",
   "name": "python3"
  },
  "language_info": {
   "codemirror_mode": {
    "name": "ipython",
    "version": 3
   },
   "file_extension": ".py",
   "mimetype": "text/x-python",
   "name": "python",
   "nbconvert_exporter": "python",
   "pygments_lexer": "ipython3",
   "version": "3.10.9"
  }
 },
 "nbformat": 4,
 "nbformat_minor": 5
}
